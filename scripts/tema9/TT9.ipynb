{
 "cells": [
  {
   "cell_type": "code",
   "execution_count": 1,
   "metadata": {},
   "outputs": [],
   "source": [
    "import pandas as pd\n",
    "import numpy as np\n",
    "import math\n"
   ]
  },
  {
   "cell_type": "code",
   "execution_count": 15,
   "metadata": {},
   "outputs": [
    {
     "output_type": "execute_result",
     "data": {
      "text/plain": [
       "input       int64\n",
       "color       int64\n",
       "spine       int64\n",
       "width     float64\n",
       "satell      int64\n",
       "weight      int64\n",
       "dtype: object"
      ]
     },
     "metadata": {},
     "execution_count": 15
    }
   ],
   "source": [
    "data = pd.read_csv(\"../../data/datacrab.txt\", header=0, sep=' ')\n",
    "data.head(4)\n",
    "cw = data.width\n",
    "n = len(cw)\n",
    "data.dtypes"
   ]
  },
  {
   "cell_type": "code",
   "execution_count": 3,
   "metadata": {},
   "outputs": [
    {
     "name": "stdout",
     "output_type": "stream",
     "text": [
      "10.0\n",
      "1.25\n",
      "20.95\n",
      "[20.95 22.2  23.45 24.7  25.95 27.2  28.45 29.7  30.95 32.2 ]\n",
      "21.58\n",
      "[21.58 22.83 24.08 25.33 26.58 27.83 29.08 30.33 31.58]\n"
     ]
    }
   ],
   "source": [
    "# Regla de Scott\n",
    "As = 3.5*cw.std()*n**(-1/3)\n",
    "kA = round(math.ceil(cw.max()-cw.min())/As,0)\n",
    "print(kA)\n",
    "\n",
    "#Amplitud de los intervalos\n",
    "I_As = round((cw.max()-cw.min())/kA,2)    \n",
    "print(I_As)\n",
    "\n",
    "# Extremo delos intervalos\n",
    "L1 = cw.min()- 1/2*0.1\n",
    "print(L1)\n",
    "\n",
    "L = L1 + I_As * np.arange(10)\n",
    "print(L)\n",
    "\n",
    "# Marcas de clase\n",
    "X1 = round((L[0]+L[1])/2,2)\n",
    "print(X1)\n",
    "XA = X1 + I_As * np.arange(9)\n",
    "print(XA)"
   ]
  },
  {
   "cell_type": "markdown",
   "metadata": {},
   "source": [
    "## Regla de la raiz cuadrada"
   ]
  },
  {
   "cell_type": "code",
   "execution_count": 4,
   "metadata": {},
   "outputs": [
    {
     "name": "stdout",
     "output_type": "stream",
     "text": [
      "14\n",
      "0.89\n",
      "20.93\n",
      "[20.93 21.82 22.71 23.6  24.49 25.38 26.27 27.16 28.05 28.94]\n",
      "21.56\n",
      "[21.56 22.45 23.34 24.23 25.12 26.01 26.9  27.79 28.68]\n"
     ]
    }
   ],
   "source": [
    "kR = round(math.ceil(math.sqrt(n)),0)\n",
    "print(kR)\n",
    "\n",
    "#Amplitud de los intervalos\n",
    "I_R = round((cw.max()-cw.min())/kR,2)   \n",
    "print(I_R)\n",
    "\n",
    "# Extremo delos intervalos\n",
    "L1R = round(cw.min()- 1/2*0.14,2)\n",
    "print(L1R)\n",
    "\n",
    "LR = L1R + I_R * np.arange(10)\n",
    "print(LR)\n",
    "\n",
    "# Marcas de clase\n",
    "X1R = round((LR[0]+L[1])/2,2)\n",
    "print(X1R)\n",
    "XR = X1R + I_R * np.arange(9)\n",
    "print(XR)"
   ]
  },
  {
   "cell_type": "markdown",
   "metadata": {},
   "source": [
    "## Regla de Sturgest "
   ]
  },
  {
   "cell_type": "code",
   "execution_count": 5,
   "metadata": {},
   "outputs": [
    {
     "name": "stdout",
     "output_type": "stream",
     "text": [
      "9\n",
      "1.39\n",
      "20.95\n",
      "[20.95 22.34 23.73 25.12 26.51 27.9  29.29 30.68 32.07 33.46]\n",
      "21.58\n",
      "[21.58 22.97 24.36 25.75 27.14 28.53 29.92 31.31 32.7 ]\n"
     ]
    }
   ],
   "source": [
    "kSt = round(math.ceil(1+math.log(n,2)),0)\n",
    "print(kSt)\n",
    "\n",
    "#Amplitud de los intervalos\n",
    "I_St = round((cw.max()-cw.min())/kSt,2)   \n",
    "print(I_St)\n",
    "\n",
    "# Extremo delos intervalos\n",
    "L1St = round(cw.min()- 1/2*0.09,2)\n",
    "print(L1St)\n",
    "\n",
    "LSt = L1St + I_St * np.arange(10)\n",
    "print(LSt)\n",
    "\n",
    "# Marcas de clase\n",
    "X1St = round((LSt[0]+L[1])/2,2)\n",
    "print(X1St)\n",
    "XSt = X1St + I_St * np.arange(9)\n",
    "print(XSt)"
   ]
  },
  {
   "cell_type": "markdown",
   "metadata": {},
   "source": [
    "## Regla de Freedman-Diaconisc"
   ]
  },
  {
   "cell_type": "code",
   "execution_count": 6,
   "metadata": {},
   "outputs": [
    {
     "name": "stdout",
     "output_type": "stream",
     "text": [
      "13\n",
      "Amplitud de los intervalos\n",
      "0.96\n",
      "Extremo delos intervalos\n",
      "20.93\n",
      "[20.93 21.89 22.85 23.81 24.77 25.73 26.69 27.65 28.61 29.57]\n",
      "Marcas de clase\n",
      "21.56\n",
      "[21.56 22.95 24.34 25.73 27.12 28.51 29.9  31.29 32.68]\n"
     ]
    }
   ],
   "source": [
    "Afd = 2*(cw.quantile(0.75)-cw.quantile(0.25))*n**(-1/3)\n",
    "kfd = round(math.ceil((cw.max()-cw.min())/(Afd)),2)\n",
    "print(kfd)\n",
    "\n",
    "print('Amplitud de los intervalos')\n",
    "I_fd = round((cw.max()-cw.min())/kfd,2)   \n",
    "print(I_fd)\n",
    "\n",
    "print('Extremo delos intervalos')\n",
    "L1fd = round(cw.min()- 1/2*0.13,2)\n",
    "print(L1fd)\n",
    "\n",
    "Lfd = L1fd + I_fd * np.arange(10)\n",
    "print(Lfd)\n",
    "\n",
    "print('Marcas de clase')\n",
    "X1fd = round((Lfd[0]+L[1])/2,2)\n",
    "print(X1fd)\n",
    "Xfd = X1fd + I_St * np.arange(9)\n",
    "print(Xfd)"
   ]
  },
  {
   "cell_type": "code",
   "execution_count": null,
   "metadata": {},
   "outputs": [],
   "source": []
  }
 ],
 "metadata": {
  "kernelspec": {
   "display_name": "Python 3.8.5 64-bit ('base')",
   "language": "python",
   "name": "python38564bitbase2e2f0dae54b8424eb8c34441d12cf734"
  },
  "language_info": {
   "codemirror_mode": {
    "name": "ipython",
    "version": 3
   },
   "file_extension": ".py",
   "mimetype": "text/x-python",
   "name": "python",
   "nbconvert_exporter": "python",
   "pygments_lexer": "ipython3",
   "version": "3.8.5-final"
  }
 },
 "nbformat": 4,
 "nbformat_minor": 4
}