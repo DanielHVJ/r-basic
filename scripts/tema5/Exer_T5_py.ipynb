{
 "metadata": {
  "language_info": {
   "codemirror_mode": {
    "name": "ipython",
    "version": 3
   },
   "file_extension": ".py",
   "mimetype": "text/x-python",
   "name": "python",
   "nbconvert_exporter": "python",
   "pygments_lexer": "ipython3",
   "version": "3.8.5-final"
  },
  "orig_nbformat": 2,
  "kernelspec": {
   "name": "Python 3.8.5 64-bit ('sfds': conda)",
   "display_name": "Python 3.8.5 64-bit ('sfds': conda)",
   "metadata": {
    "interpreter": {
     "hash": "7159b8cb0ae6eca735a6b40f9c49a256eea2ea1bd3d639de1d4ed2e086138aef"
    }
   }
  }
 },
 "nbformat": 4,
 "nbformat_minor": 2,
 "cells": [
  {
   "cell_type": "code",
   "execution_count": 10,
   "metadata": {},
   "outputs": [
    {
     "output_type": "execute_result",
     "data": {
      "text/plain": [
       "   Unnamed: 0  pulso.antes  pulso.despues hace.deporte fuma genero  altura  \\\n",
       "0           1           48             54           no   si      H    68.0   \n",
       "1           2           54             56           no   si      H    69.0   \n",
       "2           3           54             50           no   no      H    69.0   \n",
       "3           4           58             70           si   no      H    72.0   \n",
       "4           5           58             58           no   no      H    66.0   \n",
       "\n",
       "   peso tipo.actividad  \n",
       "0   150           nula  \n",
       "1   145       moderada  \n",
       "2   160       moderada  \n",
       "3   145       moderada  \n",
       "4   135        intensa  "
      ],
      "text/html": "<div>\n<style scoped>\n    .dataframe tbody tr th:only-of-type {\n        vertical-align: middle;\n    }\n\n    .dataframe tbody tr th {\n        vertical-align: top;\n    }\n\n    .dataframe thead th {\n        text-align: right;\n    }\n</style>\n<table border=\"1\" class=\"dataframe\">\n  <thead>\n    <tr style=\"text-align: right;\">\n      <th></th>\n      <th>Unnamed: 0</th>\n      <th>pulso.antes</th>\n      <th>pulso.despues</th>\n      <th>hace.deporte</th>\n      <th>fuma</th>\n      <th>genero</th>\n      <th>altura</th>\n      <th>peso</th>\n      <th>tipo.actividad</th>\n    </tr>\n  </thead>\n  <tbody>\n    <tr>\n      <th>0</th>\n      <td>1</td>\n      <td>48</td>\n      <td>54</td>\n      <td>no</td>\n      <td>si</td>\n      <td>H</td>\n      <td>68.0</td>\n      <td>150</td>\n      <td>nula</td>\n    </tr>\n    <tr>\n      <th>1</th>\n      <td>2</td>\n      <td>54</td>\n      <td>56</td>\n      <td>no</td>\n      <td>si</td>\n      <td>H</td>\n      <td>69.0</td>\n      <td>145</td>\n      <td>moderada</td>\n    </tr>\n    <tr>\n      <th>2</th>\n      <td>3</td>\n      <td>54</td>\n      <td>50</td>\n      <td>no</td>\n      <td>no</td>\n      <td>H</td>\n      <td>69.0</td>\n      <td>160</td>\n      <td>moderada</td>\n    </tr>\n    <tr>\n      <th>3</th>\n      <td>4</td>\n      <td>58</td>\n      <td>70</td>\n      <td>si</td>\n      <td>no</td>\n      <td>H</td>\n      <td>72.0</td>\n      <td>145</td>\n      <td>moderada</td>\n    </tr>\n    <tr>\n      <th>4</th>\n      <td>5</td>\n      <td>58</td>\n      <td>58</td>\n      <td>no</td>\n      <td>no</td>\n      <td>H</td>\n      <td>66.0</td>\n      <td>135</td>\n      <td>intensa</td>\n    </tr>\n  </tbody>\n</table>\n</div>"
     },
     "metadata": {},
     "execution_count": 10
    }
   ],
   "source": [
    "import pandas as pd\n",
    "import numpy as np\n",
    "\n",
    "df = pd.read_csv(\"../../data/run.csv\", delimiter=\",\", decimal=\".\", encoding=\"utf-8\")\n",
    "\n",
    "df.head(5)"
   ]
  },
  {
   "cell_type": "code",
   "execution_count": 35,
   "metadata": {},
   "outputs": [
    {
     "output_type": "execute_result",
     "data": {
      "text/plain": [
       "       Unnamed: 0  pulso.antes  pulso.despues     altura        peso\n",
       "count   35.000000    35.000000      35.000000  35.000000   35.000000\n",
       "mean    45.657143    73.600000      92.514286  69.778571  151.714286\n",
       "std     27.270910    11.435754      18.943215   3.400244   22.628160\n",
       "min      4.000000    58.000000      58.000000  61.000000  112.000000\n",
       "25%     23.500000    65.000000      76.000000  68.000000  136.500000\n",
       "50%     42.000000    70.000000      88.000000  70.000000  150.000000\n",
       "75%     68.500000    80.000000     105.000000  72.000000  170.000000\n",
       "max     92.000000   100.000000     140.000000  75.000000  195.000000"
      ],
      "text/html": "<div>\n<style scoped>\n    .dataframe tbody tr th:only-of-type {\n        vertical-align: middle;\n    }\n\n    .dataframe tbody tr th {\n        vertical-align: top;\n    }\n\n    .dataframe thead th {\n        text-align: right;\n    }\n</style>\n<table border=\"1\" class=\"dataframe\">\n  <thead>\n    <tr style=\"text-align: right;\">\n      <th></th>\n      <th>Unnamed: 0</th>\n      <th>pulso.antes</th>\n      <th>pulso.despues</th>\n      <th>altura</th>\n      <th>peso</th>\n    </tr>\n  </thead>\n  <tbody>\n    <tr>\n      <th>count</th>\n      <td>35.000000</td>\n      <td>35.000000</td>\n      <td>35.000000</td>\n      <td>35.000000</td>\n      <td>35.000000</td>\n    </tr>\n    <tr>\n      <th>mean</th>\n      <td>45.657143</td>\n      <td>73.600000</td>\n      <td>92.514286</td>\n      <td>69.778571</td>\n      <td>151.714286</td>\n    </tr>\n    <tr>\n      <th>std</th>\n      <td>27.270910</td>\n      <td>11.435754</td>\n      <td>18.943215</td>\n      <td>3.400244</td>\n      <td>22.628160</td>\n    </tr>\n    <tr>\n      <th>min</th>\n      <td>4.000000</td>\n      <td>58.000000</td>\n      <td>58.000000</td>\n      <td>61.000000</td>\n      <td>112.000000</td>\n    </tr>\n    <tr>\n      <th>25%</th>\n      <td>23.500000</td>\n      <td>65.000000</td>\n      <td>76.000000</td>\n      <td>68.000000</td>\n      <td>136.500000</td>\n    </tr>\n    <tr>\n      <th>50%</th>\n      <td>42.000000</td>\n      <td>70.000000</td>\n      <td>88.000000</td>\n      <td>70.000000</td>\n      <td>150.000000</td>\n    </tr>\n    <tr>\n      <th>75%</th>\n      <td>68.500000</td>\n      <td>80.000000</td>\n      <td>105.000000</td>\n      <td>72.000000</td>\n      <td>170.000000</td>\n    </tr>\n    <tr>\n      <th>max</th>\n      <td>92.000000</td>\n      <td>100.000000</td>\n      <td>140.000000</td>\n      <td>75.000000</td>\n      <td>195.000000</td>\n    </tr>\n  </tbody>\n</table>\n</div>"
     },
     "metadata": {},
     "execution_count": 35
    }
   ],
   "source": [
    "df.loc[df['hace.deporte'] == 'si'].describe()"
   ]
  },
  {
   "cell_type": "code",
   "execution_count": 52,
   "metadata": {},
   "outputs": [
    {
     "output_type": "execute_result",
     "data": {
      "text/plain": [
       "       Unnamed: 0                                                     \\\n",
       "            count       mean        std  min   25%   50%   75%   max   \n",
       "genero                                                                 \n",
       "H            57.0  40.666667  24.953051  1.0  21.0  41.0  57.0  88.0   \n",
       "M            35.0  56.000000  27.070714  6.0  31.0  64.0  77.5  92.0   \n",
       "\n",
       "       pulso.antes             ... altura        peso                         \\\n",
       "             count       mean  ...    75%   max count        mean        std   \n",
       "genero                         ...                                             \n",
       "H             57.0  70.421053  ...   73.0  75.0  57.0  158.263158  18.636108   \n",
       "M             35.0  76.857143  ...   68.0  70.0  35.0  123.800000  13.372052   \n",
       "\n",
       "                                           \n",
       "          min    25%    50%    75%    max  \n",
       "genero                                     \n",
       "H       123.0  145.0  155.0  170.0  215.0  \n",
       "M        95.0  115.5  122.0  130.5  150.0  \n",
       "\n",
       "[2 rows x 40 columns]"
      ],
      "text/html": "<div>\n<style scoped>\n    .dataframe tbody tr th:only-of-type {\n        vertical-align: middle;\n    }\n\n    .dataframe tbody tr th {\n        vertical-align: top;\n    }\n\n    .dataframe thead tr th {\n        text-align: left;\n    }\n\n    .dataframe thead tr:last-of-type th {\n        text-align: right;\n    }\n</style>\n<table border=\"1\" class=\"dataframe\">\n  <thead>\n    <tr>\n      <th></th>\n      <th colspan=\"8\" halign=\"left\">Unnamed: 0</th>\n      <th colspan=\"2\" halign=\"left\">pulso.antes</th>\n      <th>...</th>\n      <th colspan=\"2\" halign=\"left\">altura</th>\n      <th colspan=\"8\" halign=\"left\">peso</th>\n    </tr>\n    <tr>\n      <th></th>\n      <th>count</th>\n      <th>mean</th>\n      <th>std</th>\n      <th>min</th>\n      <th>25%</th>\n      <th>50%</th>\n      <th>75%</th>\n      <th>max</th>\n      <th>count</th>\n      <th>mean</th>\n      <th>...</th>\n      <th>75%</th>\n      <th>max</th>\n      <th>count</th>\n      <th>mean</th>\n      <th>std</th>\n      <th>min</th>\n      <th>25%</th>\n      <th>50%</th>\n      <th>75%</th>\n      <th>max</th>\n    </tr>\n    <tr>\n      <th>genero</th>\n      <th></th>\n      <th></th>\n      <th></th>\n      <th></th>\n      <th></th>\n      <th></th>\n      <th></th>\n      <th></th>\n      <th></th>\n      <th></th>\n      <th></th>\n      <th></th>\n      <th></th>\n      <th></th>\n      <th></th>\n      <th></th>\n      <th></th>\n      <th></th>\n      <th></th>\n      <th></th>\n      <th></th>\n    </tr>\n  </thead>\n  <tbody>\n    <tr>\n      <th>H</th>\n      <td>57.0</td>\n      <td>40.666667</td>\n      <td>24.953051</td>\n      <td>1.0</td>\n      <td>21.0</td>\n      <td>41.0</td>\n      <td>57.0</td>\n      <td>88.0</td>\n      <td>57.0</td>\n      <td>70.421053</td>\n      <td>...</td>\n      <td>73.0</td>\n      <td>75.0</td>\n      <td>57.0</td>\n      <td>158.263158</td>\n      <td>18.636108</td>\n      <td>123.0</td>\n      <td>145.0</td>\n      <td>155.0</td>\n      <td>170.0</td>\n      <td>215.0</td>\n    </tr>\n    <tr>\n      <th>M</th>\n      <td>35.0</td>\n      <td>56.000000</td>\n      <td>27.070714</td>\n      <td>6.0</td>\n      <td>31.0</td>\n      <td>64.0</td>\n      <td>77.5</td>\n      <td>92.0</td>\n      <td>35.0</td>\n      <td>76.857143</td>\n      <td>...</td>\n      <td>68.0</td>\n      <td>70.0</td>\n      <td>35.0</td>\n      <td>123.800000</td>\n      <td>13.372052</td>\n      <td>95.0</td>\n      <td>115.5</td>\n      <td>122.0</td>\n      <td>130.5</td>\n      <td>150.0</td>\n    </tr>\n  </tbody>\n</table>\n<p>2 rows × 40 columns</p>\n</div>"
     },
     "metadata": {},
     "execution_count": 52
    }
   ],
   "source": [
    "df.groupby('genero').describe()"
   ]
  },
  {
   "cell_type": "code",
   "execution_count": 144,
   "metadata": {},
   "outputs": [],
   "source": [
    "ds =df.loc[df['hace.deporte'] == 'si']\n",
    "dn =df.loc[df['hace.deporte'] == 'no']\n",
    "\n",
    "cv_b = ds[\"pulso.antes\"].std()/ds[\"pulso.antes\"].mean()\n",
    "cv_a = ds[\"pulso.despues\"].std()/ds[\"pulso.despues\"].mean()\n",
    "\n",
    "cvn_b = dn[\"pulso.antes\"].std()/dn[\"pulso.antes\"].mean()\n",
    "cvn_a = dn[\"pulso.despues\"].std()/dn[\"pulso.despues\"].mean()\n"
   ]
  },
  {
   "cell_type": "code",
   "execution_count": 65,
   "metadata": {},
   "outputs": [
    {
     "output_type": "stream",
     "name": "stdout",
     "text": [
      "Grupo deporte 0.04938279268077442 \nGrupo no deporte -0.011788328214957233\n"
     ]
    }
   ],
   "source": [
    "# diferencias\n",
    "print('Grupo deporte', (cv_a-cv_b), '\\n'\n",
    "'Grupo no deporte', (cvn_a-cvn_b))"
   ]
  },
  {
   "cell_type": "code",
   "execution_count": 142,
   "metadata": {},
   "outputs": [
    {
     "output_type": "execute_result",
     "data": {
      "text/plain": [
       "   Unnamed: 0  pulso.antes  pulso.despues hace.deporte fuma genero  altura  \\\n",
       "1           2           54             56           no   si      H    69.0   \n",
       "2           3           54             50           no   no      H    69.0   \n",
       "3           4           58             70           si   no      H    72.0   \n",
       "5           6           58             56           no   no      M    67.0   \n",
       "7           8           60             62           no   no      H    71.0   \n",
       "\n",
       "   peso tipo.actividad  cv_bef  \n",
       "1   145       moderada       2  \n",
       "2   160       moderada      -4  \n",
       "3   145       moderada      12  \n",
       "5   125       moderada      -2  \n",
       "7   155       moderada       2  "
      ],
      "text/html": "<div>\n<style scoped>\n    .dataframe tbody tr th:only-of-type {\n        vertical-align: middle;\n    }\n\n    .dataframe tbody tr th {\n        vertical-align: top;\n    }\n\n    .dataframe thead th {\n        text-align: right;\n    }\n</style>\n<table border=\"1\" class=\"dataframe\">\n  <thead>\n    <tr style=\"text-align: right;\">\n      <th></th>\n      <th>Unnamed: 0</th>\n      <th>pulso.antes</th>\n      <th>pulso.despues</th>\n      <th>hace.deporte</th>\n      <th>fuma</th>\n      <th>genero</th>\n      <th>altura</th>\n      <th>peso</th>\n      <th>tipo.actividad</th>\n      <th>cv_bef</th>\n    </tr>\n  </thead>\n  <tbody>\n    <tr>\n      <th>1</th>\n      <td>2</td>\n      <td>54</td>\n      <td>56</td>\n      <td>no</td>\n      <td>si</td>\n      <td>H</td>\n      <td>69.0</td>\n      <td>145</td>\n      <td>moderada</td>\n      <td>2</td>\n    </tr>\n    <tr>\n      <th>2</th>\n      <td>3</td>\n      <td>54</td>\n      <td>50</td>\n      <td>no</td>\n      <td>no</td>\n      <td>H</td>\n      <td>69.0</td>\n      <td>160</td>\n      <td>moderada</td>\n      <td>-4</td>\n    </tr>\n    <tr>\n      <th>3</th>\n      <td>4</td>\n      <td>58</td>\n      <td>70</td>\n      <td>si</td>\n      <td>no</td>\n      <td>H</td>\n      <td>72.0</td>\n      <td>145</td>\n      <td>moderada</td>\n      <td>12</td>\n    </tr>\n    <tr>\n      <th>5</th>\n      <td>6</td>\n      <td>58</td>\n      <td>56</td>\n      <td>no</td>\n      <td>no</td>\n      <td>M</td>\n      <td>67.0</td>\n      <td>125</td>\n      <td>moderada</td>\n      <td>-2</td>\n    </tr>\n    <tr>\n      <th>7</th>\n      <td>8</td>\n      <td>60</td>\n      <td>62</td>\n      <td>no</td>\n      <td>no</td>\n      <td>H</td>\n      <td>71.0</td>\n      <td>155</td>\n      <td>moderada</td>\n      <td>2</td>\n    </tr>\n  </tbody>\n</table>\n</div>"
     },
     "metadata": {},
     "execution_count": 142
    }
   ],
   "source": [
    "dm = df.loc[df['tipo.actividad'] == 'moderada']\n",
    "\n",
    "dm.head()\n"
   ]
  },
  {
   "cell_type": "code",
   "execution_count": 140,
   "metadata": {},
   "outputs": [],
   "source": [
    "def cv_d(x):\n",
    "    x['cv_bef'] = (x['pulso.despues'].std() / x['pulso.despues'].mean()) - (x['pulso.antes'].std() / x['pulso.antes'].mean())\n",
    "    \n",
    "    return x"
   ]
  },
  {
   "cell_type": "code",
   "execution_count": 154,
   "metadata": {},
   "outputs": [
    {
     "output_type": "execute_result",
     "data": {
      "text/plain": [
       "genero                   H          M\n",
       "cv_bef count  3.500000e+01  26.000000\n",
       "       mean   5.121111e-02   0.091058\n",
       "       std    7.040197e-18   0.000000\n",
       "       min    5.121111e-02   0.091058\n",
       "       25%    5.121111e-02   0.091058\n",
       "       50%    5.121111e-02   0.091058\n",
       "       75%    5.121111e-02   0.091058\n",
       "       max    5.121111e-02   0.091058"
      ],
      "text/html": "<div>\n<style scoped>\n    .dataframe tbody tr th:only-of-type {\n        vertical-align: middle;\n    }\n\n    .dataframe tbody tr th {\n        vertical-align: top;\n    }\n\n    .dataframe thead th {\n        text-align: right;\n    }\n</style>\n<table border=\"1\" class=\"dataframe\">\n  <thead>\n    <tr style=\"text-align: right;\">\n      <th></th>\n      <th>genero</th>\n      <th>H</th>\n      <th>M</th>\n    </tr>\n  </thead>\n  <tbody>\n    <tr>\n      <th rowspan=\"8\" valign=\"top\">cv_bef</th>\n      <th>count</th>\n      <td>3.500000e+01</td>\n      <td>26.000000</td>\n    </tr>\n    <tr>\n      <th>mean</th>\n      <td>5.121111e-02</td>\n      <td>0.091058</td>\n    </tr>\n    <tr>\n      <th>std</th>\n      <td>7.040197e-18</td>\n      <td>0.000000</td>\n    </tr>\n    <tr>\n      <th>min</th>\n      <td>5.121111e-02</td>\n      <td>0.091058</td>\n    </tr>\n    <tr>\n      <th>25%</th>\n      <td>5.121111e-02</td>\n      <td>0.091058</td>\n    </tr>\n    <tr>\n      <th>50%</th>\n      <td>5.121111e-02</td>\n      <td>0.091058</td>\n    </tr>\n    <tr>\n      <th>75%</th>\n      <td>5.121111e-02</td>\n      <td>0.091058</td>\n    </tr>\n    <tr>\n      <th>max</th>\n      <td>5.121111e-02</td>\n      <td>0.091058</td>\n    </tr>\n  </tbody>\n</table>\n</div>"
     },
     "metadata": {},
     "execution_count": 154
    }
   ],
   "source": [
    "dm = dm.groupby(dm['genero']).apply(cv_d)\n",
    "\n",
    "dm.groupby(dm['genero']).agg({'cv_bef' : 'describe'}).transpose()\n"
   ]
  },
  {
   "cell_type": "code",
   "execution_count": 156,
   "metadata": {},
   "outputs": [
    {
     "output_type": "execute_result",
     "data": {
      "text/plain": [
       "    Unnamed: 0  pulso.antes  pulso.despues hace.deporte fuma genero  altura  \\\n",
       "16          17           62             62           no   no      H    74.0   \n",
       "24          25           66             78           si   si      H    73.0   \n",
       "52          53           74             84           si   no      H    73.0   \n",
       "66          67           78             80           no   no      M    68.0   \n",
       "72          73           82             80           no   no      M    63.0   \n",
       "\n",
       "    peso tipo.actividad  cv_bef  \n",
       "16   190          suave       0  \n",
       "24   190          suave      12  \n",
       "52   165          suave      10  \n",
       "66   133          suave       2  \n",
       "72   116          suave      -2  "
      ],
      "text/html": "<div>\n<style scoped>\n    .dataframe tbody tr th:only-of-type {\n        vertical-align: middle;\n    }\n\n    .dataframe tbody tr th {\n        vertical-align: top;\n    }\n\n    .dataframe thead th {\n        text-align: right;\n    }\n</style>\n<table border=\"1\" class=\"dataframe\">\n  <thead>\n    <tr style=\"text-align: right;\">\n      <th></th>\n      <th>Unnamed: 0</th>\n      <th>pulso.antes</th>\n      <th>pulso.despues</th>\n      <th>hace.deporte</th>\n      <th>fuma</th>\n      <th>genero</th>\n      <th>altura</th>\n      <th>peso</th>\n      <th>tipo.actividad</th>\n      <th>cv_bef</th>\n    </tr>\n  </thead>\n  <tbody>\n    <tr>\n      <th>16</th>\n      <td>17</td>\n      <td>62</td>\n      <td>62</td>\n      <td>no</td>\n      <td>no</td>\n      <td>H</td>\n      <td>74.0</td>\n      <td>190</td>\n      <td>suave</td>\n      <td>0</td>\n    </tr>\n    <tr>\n      <th>24</th>\n      <td>25</td>\n      <td>66</td>\n      <td>78</td>\n      <td>si</td>\n      <td>si</td>\n      <td>H</td>\n      <td>73.0</td>\n      <td>190</td>\n      <td>suave</td>\n      <td>12</td>\n    </tr>\n    <tr>\n      <th>52</th>\n      <td>53</td>\n      <td>74</td>\n      <td>84</td>\n      <td>si</td>\n      <td>no</td>\n      <td>H</td>\n      <td>73.0</td>\n      <td>165</td>\n      <td>suave</td>\n      <td>10</td>\n    </tr>\n    <tr>\n      <th>66</th>\n      <td>67</td>\n      <td>78</td>\n      <td>80</td>\n      <td>no</td>\n      <td>no</td>\n      <td>M</td>\n      <td>68.0</td>\n      <td>133</td>\n      <td>suave</td>\n      <td>2</td>\n    </tr>\n    <tr>\n      <th>72</th>\n      <td>73</td>\n      <td>82</td>\n      <td>80</td>\n      <td>no</td>\n      <td>no</td>\n      <td>M</td>\n      <td>63.0</td>\n      <td>116</td>\n      <td>suave</td>\n      <td>-2</td>\n    </tr>\n  </tbody>\n</table>\n</div>"
     },
     "metadata": {},
     "execution_count": 156
    }
   ],
   "source": [
    "dm = df.loc[df['tipo.actividad'] == 'suave']\n",
    "\n",
    "dm.head()\n"
   ]
  },
  {
   "cell_type": "code",
   "execution_count": 157,
   "metadata": {},
   "outputs": [
    {
     "output_type": "execute_result",
     "data": {
      "text/plain": [
       "fuma                no        si\n",
       "cv_bef count  6.000000  3.000000\n",
       "       mean  -0.005532 -0.069915\n",
       "       std    0.000000  0.000000\n",
       "       min   -0.005532 -0.069915\n",
       "       25%   -0.005532 -0.069915\n",
       "       50%   -0.005532 -0.069915\n",
       "       75%   -0.005532 -0.069915\n",
       "       max   -0.005532 -0.069915"
      ],
      "text/html": "<div>\n<style scoped>\n    .dataframe tbody tr th:only-of-type {\n        vertical-align: middle;\n    }\n\n    .dataframe tbody tr th {\n        vertical-align: top;\n    }\n\n    .dataframe thead th {\n        text-align: right;\n    }\n</style>\n<table border=\"1\" class=\"dataframe\">\n  <thead>\n    <tr style=\"text-align: right;\">\n      <th></th>\n      <th>fuma</th>\n      <th>no</th>\n      <th>si</th>\n    </tr>\n  </thead>\n  <tbody>\n    <tr>\n      <th rowspan=\"8\" valign=\"top\">cv_bef</th>\n      <th>count</th>\n      <td>6.000000</td>\n      <td>3.000000</td>\n    </tr>\n    <tr>\n      <th>mean</th>\n      <td>-0.005532</td>\n      <td>-0.069915</td>\n    </tr>\n    <tr>\n      <th>std</th>\n      <td>0.000000</td>\n      <td>0.000000</td>\n    </tr>\n    <tr>\n      <th>min</th>\n      <td>-0.005532</td>\n      <td>-0.069915</td>\n    </tr>\n    <tr>\n      <th>25%</th>\n      <td>-0.005532</td>\n      <td>-0.069915</td>\n    </tr>\n    <tr>\n      <th>50%</th>\n      <td>-0.005532</td>\n      <td>-0.069915</td>\n    </tr>\n    <tr>\n      <th>75%</th>\n      <td>-0.005532</td>\n      <td>-0.069915</td>\n    </tr>\n    <tr>\n      <th>max</th>\n      <td>-0.005532</td>\n      <td>-0.069915</td>\n    </tr>\n  </tbody>\n</table>\n</div>"
     },
     "metadata": {},
     "execution_count": 157
    }
   ],
   "source": [
    "dm = dm.groupby(dm['fuma']).apply(cv_d)\n",
    "\n",
    "dm.groupby(dm['fuma']).agg({'cv_bef' : 'describe'}).transpose()\n"
   ]
  },
  {
   "cell_type": "code",
   "execution_count": 158,
   "metadata": {},
   "outputs": [
    {
     "output_type": "execute_result",
     "data": {
      "text/plain": [
       "tipo.actividad       intensa      moderada  nula         suave\n",
       "cv_bef count    2.100000e+01  6.100000e+01   0.0  9.000000e+00\n",
       "       mean    -1.471966e-02  7.965094e-02   NaN -1.476348e-02\n",
       "       std      7.110250e-18  1.399296e-17   NaN  1.839952e-18\n",
       "       min     -1.471966e-02  7.965094e-02   NaN -1.476348e-02\n",
       "       25%     -1.471966e-02  7.965094e-02   NaN -1.476348e-02\n",
       "       50%     -1.471966e-02  7.965094e-02   NaN -1.476348e-02\n",
       "       75%     -1.471966e-02  7.965094e-02   NaN -1.476348e-02\n",
       "       max     -1.471966e-02  7.965094e-02   NaN -1.476348e-02"
      ],
      "text/html": "<div>\n<style scoped>\n    .dataframe tbody tr th:only-of-type {\n        vertical-align: middle;\n    }\n\n    .dataframe tbody tr th {\n        vertical-align: top;\n    }\n\n    .dataframe thead th {\n        text-align: right;\n    }\n</style>\n<table border=\"1\" class=\"dataframe\">\n  <thead>\n    <tr style=\"text-align: right;\">\n      <th></th>\n      <th>tipo.actividad</th>\n      <th>intensa</th>\n      <th>moderada</th>\n      <th>nula</th>\n      <th>suave</th>\n    </tr>\n  </thead>\n  <tbody>\n    <tr>\n      <th rowspan=\"8\" valign=\"top\">cv_bef</th>\n      <th>count</th>\n      <td>2.100000e+01</td>\n      <td>6.100000e+01</td>\n      <td>0.0</td>\n      <td>9.000000e+00</td>\n    </tr>\n    <tr>\n      <th>mean</th>\n      <td>-1.471966e-02</td>\n      <td>7.965094e-02</td>\n      <td>NaN</td>\n      <td>-1.476348e-02</td>\n    </tr>\n    <tr>\n      <th>std</th>\n      <td>7.110250e-18</td>\n      <td>1.399296e-17</td>\n      <td>NaN</td>\n      <td>1.839952e-18</td>\n    </tr>\n    <tr>\n      <th>min</th>\n      <td>-1.471966e-02</td>\n      <td>7.965094e-02</td>\n      <td>NaN</td>\n      <td>-1.476348e-02</td>\n    </tr>\n    <tr>\n      <th>25%</th>\n      <td>-1.471966e-02</td>\n      <td>7.965094e-02</td>\n      <td>NaN</td>\n      <td>-1.476348e-02</td>\n    </tr>\n    <tr>\n      <th>50%</th>\n      <td>-1.471966e-02</td>\n      <td>7.965094e-02</td>\n      <td>NaN</td>\n      <td>-1.476348e-02</td>\n    </tr>\n    <tr>\n      <th>75%</th>\n      <td>-1.471966e-02</td>\n      <td>7.965094e-02</td>\n      <td>NaN</td>\n      <td>-1.476348e-02</td>\n    </tr>\n    <tr>\n      <th>max</th>\n      <td>-1.471966e-02</td>\n      <td>7.965094e-02</td>\n      <td>NaN</td>\n      <td>-1.476348e-02</td>\n    </tr>\n  </tbody>\n</table>\n</div>"
     },
     "metadata": {},
     "execution_count": 158
    }
   ],
   "source": [
    "df = df.groupby(df['tipo.actividad']).apply(cv_d)\n",
    "\n",
    "df.groupby(df['tipo.actividad']).agg({'cv_bef' : 'describe'}).transpose()"
   ]
  }
 ]
}